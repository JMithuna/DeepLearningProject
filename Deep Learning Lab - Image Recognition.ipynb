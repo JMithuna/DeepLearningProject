{
 "cells": [
  {
   "cell_type": "code",
   "execution_count": 1,
   "id": "244ef671",
   "metadata": {},
   "outputs": [],
   "source": [
    "import tensorflow as tf\n",
    "fashion_mnist = tf.keras.datasets.fashion_mnist\n",
    "(train_X, train_y), (test_X, test_y) = fashion_mnist.load_data()"
   ]
  },
  {
   "cell_type": "code",
   "execution_count": 2,
   "id": "68682fb7",
   "metadata": {},
   "outputs": [
    {
     "data": {
      "text/plain": [
       "10"
      ]
     },
     "execution_count": 2,
     "metadata": {},
     "output_type": "execute_result"
    }
   ],
   "source": [
    "from collections import Counter\n",
    "len(Counter(train_y))"
   ]
  },
  {
   "cell_type": "code",
   "execution_count": 3,
   "id": "00a5842a",
   "metadata": {},
   "outputs": [
    {
     "data": {
      "text/plain": [
       "<matplotlib.image.AxesImage at 0x1822131df10>"
      ]
     },
     "execution_count": 3,
     "metadata": {},
     "output_type": "execute_result"
    },
    {
     "data": {
      "image/png": "[encoded data removed]",
      "text/plain": [
       "<Figure size 432x288 with 1 Axes>"
      ]
     },
     "metadata": {
      "needs_background": "light"
     },
     "output_type": "display_data"
    }
   ],
   "source": [
    "import matplotlib.pyplot as plt\n",
    "plt.imshow(train_X[3])"
   ]
  },
  {
   "cell_type": "code",
   "execution_count": 5,
   "id": "a0b829c7",
   "metadata": {},
   "outputs": [],
   "source": [
    "train_label = tf.keras.utils.to_categorical(train_y, num_classes = 10)\n",
    "test_label = tf.keras.utils.to_categorical(test_y, num_classes = 10)"
   ]
  },
  {
   "cell_type": "code",
   "execution_count": 7,
   "id": "4ddeca9c",
   "metadata": {},
   "outputs": [],
   "source": [
    "train_input = tf.data.Dataset.from_tensor_slices((train_X, train_label)).batch(50)\n",
    "test_input = tf.data.Dataset.from_tensor_slices((test_X, test_label)).batch(50)"
   ]
  },
  {
   "cell_type": "code",
   "execution_count": 8,
   "id": "29501daa",
   "metadata": {},
   "outputs": [],
   "source": [
    "input_data = tf.keras.Input([28,28])"
   ]
  },
  {
   "cell_type": "code",
   "execution_count": 9,
   "id": "2d1a207f",
   "metadata": {},
   "outputs": [],
   "source": [
    "dense = tf.keras.layers.Flatten()(input_data)"
   ]
  },
  {
   "cell_type": "code",
   "execution_count": 10,
   "id": "b23c8911",
   "metadata": {},
   "outputs": [],
   "source": [
    "dense = tf.keras.layers.Dense(100, activation='relu')(dense)\n",
    "dense = tf.keras.layers.Dense(100, activation='relu')(dense)\n",
    "dense = tf.keras.layers.Dense(100, activation='relu')(dense)\n",
    "dense = tf.keras.layers.Dense(100, activation='relu')(dense)"
   ]
  },
  {
   "cell_type": "code",
   "execution_count": 11,
   "id": "84051371",
   "metadata": {},
   "outputs": [],
   "source": [
    "output_data = tf.keras.layers.Dense(10, activation='softmax')(dense)"
   ]
  },
  {
   "cell_type": "code",
   "execution_count": 12,
   "id": "a2731d5e",
   "metadata": {},
   "outputs": [],
   "source": [
    "model=tf.keras.Model(inputs = input_data, outputs=output_data)"
   ]
  },
  {
   "cell_type": "code",
   "execution_count": 14,
   "id": "aa45b6e9",
   "metadata": {},
   "outputs": [],
   "source": [
    "model.compile(optimizer = tf.optimizers.Adam(0.001), \n",
    "             loss = tf.losses.categorical_crossentropy,\n",
    "             metrics=['accuracy'])"
   ]
  },
  {
   "cell_type": "code",
   "execution_count": 15,
   "id": "98d4f101",
   "metadata": {},
   "outputs": [
    {
     "name": "stdout",
     "output_type": "stream",
     "text": [
      "Model: \"model\"\n",
      "_________________________________________________________________\n",
      " Layer (type)                Output Shape              Param #   \n",
      "=================================================================\n",
      " input_1 (InputLayer)        [(None, 28, 28)]          0         \n",
      "                                                                 \n",
      " flatten (Flatten)           (None, 784)               0         \n",
      "                                                                 \n",
      " dense (Dense)               (None, 100)               78500     \n",
      "                                                                 \n",
      " dense_1 (Dense)             (None, 100)               10100     \n",
      "                                                                 \n",
      " dense_2 (Dense)             (None, 100)               10100     \n",
      "                                                                 \n",
      " dense_3 (Dense)             (None, 100)               10100     \n",
      "                                                                 \n",
      " dense_4 (Dense)             (None, 10)                1010      \n",
      "                                                                 \n",
      "=================================================================\n",
      "Total params: 109,810\n",
      "Trainable params: 109,810\n",
      "Non-trainable params: 0\n",
      "_________________________________________________________________\n"
     ]
    }
   ],
   "source": [
    "model.summary()"
   ]
  },
  {
   "cell_type": "code",
   "execution_count": 16,
   "id": "fc477740",
   "metadata": {},
   "outputs": [
    {
     "name": "stdout",
     "output_type": "stream",
     "text": [
      "Epoch 1/10\n",
      "1200/1200 [==============================] - 6s 4ms/step - loss: 1.0561 - accuracy: 0.7640\n",
      "Epoch 2/10\n",
      "1200/1200 [==============================] - 5s 4ms/step - loss: 0.4848 - accuracy: 0.8284\n",
      "Epoch 3/10\n",
      "1200/1200 [==============================] - 5s 4ms/step - loss: 0.4351 - accuracy: 0.8444\n",
      "Epoch 4/10\n",
      "1200/1200 [==============================] - 5s 4ms/step - loss: 0.4059 - accuracy: 0.8535\n",
      "Epoch 5/10\n",
      "1200/1200 [==============================] - 5s 4ms/step - loss: 0.3866 - accuracy: 0.8598\n",
      "Epoch 6/10\n",
      "1200/1200 [==============================] - 5s 4ms/step - loss: 0.3725 - accuracy: 0.8640\n",
      "Epoch 7/10\n",
      "1200/1200 [==============================] - 5s 4ms/step - loss: 0.3573 - accuracy: 0.8709\n",
      "Epoch 8/10\n",
      "1200/1200 [==============================] - 5s 4ms/step - loss: 0.3438 - accuracy: 0.8740\n",
      "Epoch 9/10\n",
      "1200/1200 [==============================] - 5s 4ms/step - loss: 0.3348 - accuracy: 0.8771\n",
      "Epoch 10/10\n",
      "1200/1200 [==============================] - 5s 4ms/step - loss: 0.3252 - accuracy: 0.8812\n"
     ]
    },
    {
     "data": {
      "text/plain": [
       "<keras.callbacks.History at 0x182288e4ee0>"
      ]
     },
     "execution_count": 16,
     "metadata": {},
     "output_type": "execute_result"
    }
   ],
   "source": [
    "model.fit(train_input, epochs=10)"
   ]
  },
  {
   "cell_type": "code",
   "execution_count": 17,
   "id": "d336a405",
   "metadata": {},
   "outputs": [
    {
     "name": "stdout",
     "output_type": "stream",
     "text": [
      "200/200 [==============================] - 1s 3ms/step - loss: 0.4134 - accuracy: 0.8596\n"
     ]
    },
    {
     "data": {
      "text/plain": [
       "[0.4134465456008911, 0.8596000075340271]"
      ]
     },
     "execution_count": 17,
     "metadata": {},
     "output_type": "execute_result"
    }
   ],
   "source": [
    "model.evaluate(test_input)"
   ]
  },
  {
   "cell_type": "code",
   "execution_count": 19,
   "id": "5e9a1ab9",
   "metadata": {},
   "outputs": [],
   "source": [
    "train_data = tf.expand_dims(train_X, -1)\n",
    "test_data = tf.expand_dims(test_X, -1)"
   ]
  },
  {
   "cell_type": "code",
   "execution_count": 21,
   "id": "6d8da2a6",
   "metadata": {},
   "outputs": [],
   "source": [
    "train_input= tf.data.Dataset.from_tensor_slices((train_data, train_label)).batch(50)\n",
    "test_input = tf.data.Dataset.from_tensor_slices((test_data, test_label)).batch(50)"
   ]
  },
  {
   "cell_type": "code",
   "execution_count": 22,
   "id": "13e9e1d3",
   "metadata": {},
   "outputs": [],
   "source": [
    "input_data = tf.keras.layers.Input([28,28,1])"
   ]
  },
  {
   "cell_type": "code",
   "execution_count": 24,
   "id": "dd2206c0",
   "metadata": {},
   "outputs": [],
   "source": [
    "conv = tf.keras.layers.Conv2D(30,5, padding='SAME', activation='relu')(input_data)\n",
    "conv = tf.keras.layers.Conv2D(30,5, padding='SAME', activation='relu')(conv)"
   ]
  },
  {
   "cell_type": "code",
   "execution_count": 25,
   "id": "9fc864ca",
   "metadata": {},
   "outputs": [],
   "source": [
    "conv = tf.keras.layers.MaxPool2D(strides=[2,2])(conv)\n",
    "conv = tf.keras.layers.Conv2D(30,5,padding='SAME', activation='relu')(conv)"
   ]
  },
  {
   "cell_type": "code",
   "execution_count": 26,
   "id": "22e78460",
   "metadata": {},
   "outputs": [],
   "source": [
    "dense = tf.keras.layers.Flatten()(conv)\n",
    "output_data= tf.keras.layers.Dense(10, activation='relu')(dense)"
   ]
  },
  {
   "cell_type": "code",
   "execution_count": 27,
   "id": "7e30fe6a",
   "metadata": {},
   "outputs": [
    {
     "name": "stdout",
     "output_type": "stream",
     "text": [
      "Model: \"model_1\"\n",
      "_________________________________________________________________\n",
      " Layer (type)                Output Shape              Param #   \n",
      "=================================================================\n",
      " input_2 (InputLayer)        [(None, 28, 28, 1)]       0         \n",
      "                                                                 \n",
      " conv2d_1 (Conv2D)           (None, 28, 28, 30)        780       \n",
      "                                                                 \n",
      " conv2d_2 (Conv2D)           (None, 28, 28, 30)        22530     \n",
      "                                                                 \n",
      " max_pooling2d (MaxPooling2D  (None, 14, 14, 30)       0         \n",
      " )                                                               \n",
      "                                                                 \n",
      " conv2d_3 (Conv2D)           (None, 14, 14, 30)        22530     \n",
      "                                                                 \n",
      " flatten_1 (Flatten)         (None, 5880)              0         \n",
      "                                                                 \n",
      " dense_5 (Dense)             (None, 10)                58810     \n",
      "                                                                 \n",
      "=================================================================\n",
      "Total params: 104,650\n",
      "Trainable params: 104,650\n",
      "Non-trainable params: 0\n",
      "_________________________________________________________________\n"
     ]
    }
   ],
   "source": [
    "model = tf.keras.Model(inputs=input_data, outputs = output_data)\n",
    "model.compile(optimizer = tf.optimizers.Adam(0.001),\n",
    "             loss = tf.losses.categorical_crossentropy,\n",
    "             metrics = ['accuracy'])\n",
    "model.summary()"
   ]
  },
  {
   "cell_type": "code",
   "execution_count": 28,
   "id": "3b0de91d",
   "metadata": {},
   "outputs": [
    {
     "name": "stdout",
     "output_type": "stream",
     "text": [
      "1200/1200 [==============================] - 148s 122ms/step - loss: nan - accuracy: 0.1031\n",
      "200/200 [==============================] - 6s 29ms/step - loss: nan - accuracy: 0.1000\n"
     ]
    },
    {
     "data": {
      "text/plain": [
       "[nan, 0.10000000149011612]"
      ]
     },
     "execution_count": 28,
     "metadata": {},
     "output_type": "execute_result"
    }
   ],
   "source": [
    "model.fit(train_input, epochs=1)\n",
    "model.evaluate(test_input)"
   ]
  },
  {
   "cell_type": "code",
   "execution_count": 29,
   "id": "da6cfaac",
   "metadata": {},
   "outputs": [],
   "source": [
    "model.save('./model.h5')"
   ]
  },
  {
   "cell_type": "code",
   "execution_count": 30,
   "id": "5a2b811f",
   "metadata": {},
   "outputs": [
    {
     "name": "stdout",
     "output_type": "stream",
     "text": [
      "200/200 [==============================] - 6s 29ms/step - loss: nan - accuracy: 0.1000\n"
     ]
    },
    {
     "data": {
      "text/plain": [
       "[nan, 0.10000000149011612]"
      ]
     },
     "execution_count": 30,
     "metadata": {},
     "output_type": "execute_result"
    }
   ],
   "source": [
    "modelx = tf.keras.models.load_model('./model.h5')\n",
    "modelx.evaluate(test_input)"
   ]
  }
 ],
 "metadata": {
  "kernelspec": {
   "display_name": "Python 3 (ipykernel)",
   "language": "python",
   "name": "python3"
  },
  "language_info": {
   "codemirror_mode": {
    "name": "ipython",
    "version": 3
   },
   "file_extension": ".py",
   "mimetype": "text/x-python",
   "name": "python",
   "nbconvert_exporter": "python",
   "pygments_lexer": "ipython3",
   "version": "3.9.7"
  }
 },
 "nbformat": 4,
 "nbformat_minor": 5
}
